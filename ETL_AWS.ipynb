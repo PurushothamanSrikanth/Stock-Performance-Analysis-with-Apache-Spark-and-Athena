{
 "cells": [
  {
   "cell_type": "code",
   "execution_count": null,
   "id": "d6f1ed70-f0d0-41ff-8bf1-a4019a6e417a",
   "metadata": {
    "id": "d6f1ed70-f0d0-41ff-8bf1-a4019a6e417a"
   },
   "outputs": [],
   "source": [
    "#Importing all necessary libraries\n",
    "\n",
    "import pandas, numpy, os\n",
    "import pyspark\n",
    "from pyspark import SparkConf, SparkContext\n",
    "from pyspark.sql import *\n",
    "import boto3\n",
    "import findspark\n",
    "findspark.init()\n",
    "from pyspark.sql.types import StructType, StructField, StringType, IntegerType, DecimalType"
   ]
  },
  {
   "cell_type": "code",
   "execution_count": null,
   "id": "8aee00af-cf7f-44c7-98f5-3ae84adc48d0",
   "metadata": {
    "id": "8aee00af-cf7f-44c7-98f5-3ae84adc48d0"
   },
   "outputs": [],
   "source": [
    "#Creating a Spark Session\n",
    "\n",
    "conf = SparkConf() \\\n",
    "    .setAppName(\"Purush_ETL\")\n",
    "\n",
    "conf.set('spark.jars.packages', 'org.apache.hadoop:hadoop-aws:3.2.0')\n",
    "conf.set('spark.hadoop.fs.s3a.aws.credentials.provider', 'org.apache.hadoop.fs.s3a.AnonymousAWSCredentialsProvider')\n",
    "\n",
    "spark = SparkSession \\\n",
    "    .builder \\\n",
    "    .config(conf = conf) \\\n",
    "    .config(\"spark.dynamicAllocation.enabled\", \"true\") \\\n",
    "    .enableHiveSupport() \\\n",
    "    .getOrCreate()\n",
    "spark.catalog.clearCache()"
   ]
  },
  {
   "cell_type": "code",
   "execution_count": null,
   "id": "18df0cda-94a1-459a-8c24-1a7773e62088",
   "metadata": {
    "id": "18df0cda-94a1-459a-8c24-1a7773e62088"
   },
   "outputs": [],
   "source": [
    "S3_BUCKET_PATH = \"s3a://purushstockdata/data/\""
   ]
  },
  {
   "cell_type": "markdown",
   "id": "5c232f51-5864-4638-8a2b-338816a23c92",
   "metadata": {},
   "source": [
    "## Reading the data from S3"
   ]
  },
  {
   "cell_type": "markdown",
   "id": "90a168c7-3776-4143-92dc-ecc913fa6f0f",
   "metadata": {},
   "source": [
    "### Reading the Metadata"
   ]
  },
  {
   "cell_type": "code",
   "execution_count": null,
   "id": "8043bba3-1712-4d4c-a5f5-d0056a257e44",
   "metadata": {
    "id": "8043bba3-1712-4d4c-a5f5-d0056a257e44"
   },
   "outputs": [],
   "source": [
    "#Schema for symbol metadata\n",
    "sym_meta_schema = StructType([ \\\n",
    "    StructField(\"Symbol\", StringType(), True), \\\n",
    "    StructField(\"Name\", StringType(), True), \\\n",
    "    StructField(\"Country\", StringType(), True), \\\n",
    "    StructField(\"Sector\", StringType(), True), \\\n",
    "    StructField(\"Industry\", StringType(), True), \\\n",
    "    StructField(\"Address\", StringType(), True) \\\n",
    "])\n",
    "\n",
    "sym_meta = spark.read.option(\"header\", True).schema(sym_meta_schema).csv(S3_BUCKET_PATH+\"symbol_metadata.csv\")\n",
    "\n",
    "sym_meta.printSchema() #check the Schema of the dataframe\n",
    "sym_meta.show()"
   ]
  },
  {
   "cell_type": "code",
   "execution_count": null,
   "id": "dd8f52b2-4317-40f9-8b14-bc5cc8319eb6",
   "metadata": {},
   "outputs": [],
   "source": [
    "## Before reading the Stock data, we need to make sure we read the Stock data  \n",
    "## only for those companies/symbols that are listed in the Metadata file.\n",
    "sym_list = [x for x in sym_meta[\"Symbol\"].rdd.flatMap(lambda x: x).collect()]\n",
    "#print(sym_list)"
   ]
  },
  {
   "cell_type": "markdown",
   "id": "8d556a6e-95f1-4736-87b8-2702264cec0f",
   "metadata": {
    "tags": []
   },
   "source": [
    "## Reading the Stock data"
   ]
  },
  {
   "cell_type": "code",
   "execution_count": null,
   "id": "36378a57-4d2e-4c14-bf2f-549bac6dd6b3",
   "metadata": {
    "colab": {
     "base_uri": "https://localhost:8080/",
     "height": 1000
    },
    "id": "36378a57-4d2e-4c14-bf2f-549bac6dd6b3",
    "outputId": "224a8380-b6b9-4abd-ab9d-bf785335e49a"
   },
   "outputs": [],
   "source": [
    "stock_data_paths = [S3_BUCKET_PATH+x+\".csv\" for x in sym_list]\n",
    "#print(stock_data_paths)\n",
    "#stock_data = spark.read.option(\"header\", True).schema(stock_data_schema).csv(stock_data_paths)\n",
    "#stock_data.printSchema() #to check the Schema of the dataframe\n",
    "#stock_data.show()\n",
    "\n",
    "stock_data = spark.read.schema(stock_data_schema).csv(stock_data_paths, header=True)\n",
    "stock_data = stock_data.withColumn(\"Symbol\", regexp_replace(input_file_name(), r'^.*/([^/]+)\\.csv$', '$1'))\n",
    "#stock_data.printSchema() #to check the Schema of the dataframe\n",
    "stock_data.show()"
   ]
  },
  {
   "cell_type": "code",
   "execution_count": null,
   "id": "afbf6765",
   "metadata": {},
   "outputs": [],
   "source": [
    "stock_data_full = stock_data.join(sym_meta, upper(stock_data[\"Symbol\"]) == upper(sym_meta[\"Symbol\"]), \"left\") \\\n",
    "    .select(stock_data['*'],\n",
    "            sym_meta[\"Name\"],\n",
    "            sym_meta[\"Country\"],\n",
    "            sym_meta[\"Sector\"],\n",
    "            sym_meta[\"Industry\"]) \\\n",
    "    .repartition(col(\"Symbol\")) \n",
    "\n",
    "stock_data_full.printSchema()\n",
    "stock_data_full.show()"
   ]
  },
  {
   "cell_type": "code",
   "execution_count": null,
   "id": "a97ef8e9",
   "metadata": {},
   "outputs": [],
   "source": []
  },
  {
   "cell_type": "markdown",
   "id": "b45ebbc7",
   "metadata": {},
   "source": [
    "### Summary Report (All Time)"
   ]
  },
  {
   "cell_type": "code",
   "execution_count": null,
   "id": "c3102162",
   "metadata": {},
   "outputs": [],
   "source": [
    "def summary_report_all_func(stock_data_full, industries):\n",
    "    summary_report_output__all_time = stock_data_full.filter(stock_data_full[\"Sector\"].isin(sectors)) \\\n",
    "        .groupBy(stock_data_full[\"Sector\"])\\\n",
    "        .agg(\n",
    "            avg(stock_data_full[\"open\"]).alias(\"Avg Open Price\"), \\\n",
    "            avg(stock_data_full[\"close\"]).alias(\"Avg Close Price\"), \\\n",
    "            max(stock_data_full[\"high\"]).alias(\"Max High Price\"), \\\n",
    "            min(stock_data_full[\"low\"]).alias(\"Min Low Price\"), \\\n",
    "            avg(stock_data_full[\"volume\"]).alias(\"Avg Volume\") \\\n",
    "        )\n",
    "    summary_report_output__all_time.printSchema()\n",
    "    #For developmental purposes I'm trying to store the data in a Dataframe and then return it; rather than directly returning it.\n",
    "    return summary_report_output__all_time"
   ]
  },
  {
   "cell_type": "code",
   "execution_count": null,
   "id": "6be17156",
   "metadata": {},
   "outputs": [],
   "source": [
    "no_industries = int(input(\"Enter the number of industries for which you wanted Summary Report (All Time):\"))\n",
    "arr = input()   # takes the whole line of no_sectors strings\n",
    "sectors = [sector.strip() for sector in arr.split(',')] # split those strings with ','\n",
    "\n",
    "summary_report_all_func(stock_data_full, sectors).show(n = len(sym_list), truncate = False)\n",
    "\n"
   ]
  },
  {
   "cell_type": "code",
   "execution_count": null,
   "id": "c986d8d0",
   "metadata": {},
   "outputs": [],
   "source": []
  },
  {
   "cell_type": "markdown",
   "id": "2536efc5",
   "metadata": {},
   "source": [
    "### Summary Report (Period)"
   ]
  },
  {
   "cell_type": "code",
   "execution_count": null,
   "id": "f970469b",
   "metadata": {},
   "outputs": [],
   "source": [
    "def summary_report_period_func(stock_data_full, sectors, start_date, end_date):\n",
    "    start_date = to_date(lit(start_date), \"yyyy-MM-dd\")\n",
    "    end_date = to_date(lit(end_date), \"yyyy-MM-dd\")\n",
    "    summary_report_output__period = stock_data_full \\\n",
    "        .filter((stock_data_full[\"Sector\"].isin(sectors))  & \\\n",
    "                (to_date(stock_data_full[\"timestamp\"], \"yyyy-MM-dd\").between(start_date, end_date))\n",
    "        ) \\\n",
    "        .groupBy(stock_data_full[\"Sector\"]) \\\n",
    "        .agg(\n",
    "            avg(stock_data_full[\"open\"]).alias(\"Avg Open Price\"), \\\n",
    "            avg(stock_data_full[\"close\"]).alias(\"Avg Close Price\"), \\\n",
    "            max(stock_data_full[\"high\"]).alias(\"Max High Price\"), \\\n",
    "            min(stock_data_full[\"low\"]).alias(\"Min Low Price\"), \\\n",
    "            avg(stock_data_full[\"volume\"]).alias(\"Avg Volume\") \\\n",
    "        )\n",
    "    #For developmental purposes I'm trying to store the data in a Dataframe and then return it; rather than directly returning it.\n",
    "    return summary_report_output__period"
   ]
  },
  {
   "cell_type": "code",
   "execution_count": null,
   "id": "856ccb56",
   "metadata": {},
   "outputs": [],
   "source": [
    "start_date = input(\"Enter the start date of the period for Summary Report [yyyy-MM-dd]:\")\n",
    "end_date = input(\"Enter the end date of the period for Summary Report [yyyy-MM-dd]:\")\n",
    "no_sectors = int(input(\"Enter the number of sectors for which you wanted Summary Report (Given Period):\"))\n",
    "arr = input()   # takes the whole line of no_sectors strings\n",
    "sectors = [sector.strip() for sector in arr.split(',')] # split those strings with ','\n",
    "\n",
    "summary_report_period_func(stock_data_full, sectors, start_date, end_date).show(n = len(sym_list), truncate = False)\n"
   ]
  },
  {
   "cell_type": "code",
   "execution_count": null,
   "id": "473e4c35",
   "metadata": {},
   "outputs": [],
   "source": []
  },
  {
   "cell_type": "markdown",
   "id": "355f96a6",
   "metadata": {},
   "source": [
    "### Detailed Reports (Period)"
   ]
  },
  {
   "cell_type": "code",
   "execution_count": null,
   "id": "7ba0c2e4",
   "metadata": {},
   "outputs": [],
   "source": [
    "def detailed_report_period_func(stock_data_full, sectors, start_date, end_date):\n",
    "    start_date = to_date(lit(start_date), \"yyyy-MM-dd\")\n",
    "    end_date = to_date(lit(end_date), \"yyyy-MM-dd\")\n",
    "\n",
    "    detailed_report_output__period = stock_data_full \\\n",
    "        .filter((stock_data_full[\"Sector\"].isin(sectors)) & \\\n",
    "                (to_date(stock_data_full[\"timestamp\"], \"yyyy-MM-dd\").between(start_date, end_date))) \\\n",
    "        .groupBy(stock_data_full[\"Symbol\"], stock_data_full[\"Name\"]) \\\n",
    "        .agg(\n",
    "            avg(stock_data_full[\"open\"]).alias(\"Avg Open Price\"), \\\n",
    "            avg(stock_data_full[\"close\"]).alias(\"Avg Close Price\"), \\\n",
    "            max(stock_data_full[\"high\"]).alias(\"Max High Price\"), \\\n",
    "            min(stock_data_full[\"low\"]).alias(\"Min Low Price\"), \\\n",
    "            avg(stock_data_full[\"volume\"]).alias(\"Avg Volume\") \\\n",
    "        )\n",
    "    #For developmental purposes I'm trying to store the data in a Dataframe and then return it; rather than directly returning it.\n",
    "    return detailed_report_output__period"
   ]
  },
  {
   "cell_type": "code",
   "execution_count": null,
   "id": "f9f3709f",
   "metadata": {},
   "outputs": [],
   "source": [
    "start_date = input(\"Enter the start date of the period for Detailed Reports [yyyy-MM-dd]:\")\n",
    "end_date = input(\"Enter the end date of the period for Detailed Reports [yyyy-MM-dd]:\")\n",
    "no_sectors = int(input(\"Enter the number of sectors for which you wanted Detailed Report (Given Period):\"))\n",
    "arr = input()   # takes the whole line of no_sectors strings\n",
    "sectors = [sector.strip() for sector in arr.split(',')] # split those strings with ','\n",
    "\n",
    "detailed_report_period_func(stock_data_full, sectors, start_date, end_date).show(n = len(sym_list), truncate = False)"
   ]
  },
  {
   "cell_type": "code",
   "execution_count": null,
   "id": "5d0679aa-08cc-4952-81ec-8fbe29eacd5e",
   "metadata": {
    "id": "5d0679aa-08cc-4952-81ec-8fbe29eacd5e"
   },
   "outputs": [],
   "source": [
    "spark.stop()"
   ]
  }
 ],
 "metadata": {
  "colab": {
   "provenance": []
  },
  "kernelspec": {
   "display_name": "Python 3",
   "language": "python",
   "name": "python3"
  },
  "language_info": {
   "codemirror_mode": {
    "name": "ipython",
    "version": 3
   },
   "file_extension": ".py",
   "mimetype": "text/x-python",
   "name": "python",
   "nbconvert_exporter": "python",
   "pygments_lexer": "ipython3",
   "version": "3.8.12"
  }
 },
 "nbformat": 4,
 "nbformat_minor": 5
}
